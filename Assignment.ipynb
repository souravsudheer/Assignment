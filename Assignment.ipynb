{
 "cells": [
  {
   "cell_type": "markdown",
   "id": "2cfd299d-ff00-4eb0-8097-fe699b2bab4a",
   "metadata": {},
   "source": [
    "# My Jupyter Notebook on IBM Watson Studio"
   ]
  },
  {
   "cell_type": "markdown",
   "id": "848a081f-0077-4387-8607-a82d2c54ee28",
   "metadata": {},
   "source": [
    "**Sourav Sudheer**\n",
    "Data Scientist"
   ]
  },
  {
   "cell_type": "markdown",
   "id": "1463a976-88d1-4cdb-b852-182fca997c25",
   "metadata": {},
   "source": [
    "*I am interested in data science because I'm curious about things happening around us.*"
   ]
  },
  {
   "cell_type": "markdown",
   "id": "f0bc7008-f367-49ce-b51f-3a4a9a4aa320",
   "metadata": {},
   "source": [
    "### Print \"Hello World\""
   ]
  },
  {
   "cell_type": "code",
   "execution_count": 2,
   "id": "98002839-b2d9-4ded-93eb-3edd2469fa27",
   "metadata": {},
   "outputs": [
    {
     "name": "stdout",
     "output_type": "stream",
     "text": [
      "Hello World\n"
     ]
    }
   ],
   "source": [
    "print(\"Hello World\")"
   ]
  },
  {
   "cell_type": "markdown",
   "id": "20269e6d-8546-4b62-b8fb-9c1c8b822a30",
   "metadata": {},
   "source": [
    "1. first item\n",
    "2. second item\n",
    "3. third item\n"
   ]
  }
 ],
 "metadata": {
  "kernelspec": {
   "display_name": "Python",
   "language": "python",
   "name": "conda-env-python-py"
  },
  "language_info": {
   "codemirror_mode": {
    "name": "ipython",
    "version": 3
   },
   "file_extension": ".py",
   "mimetype": "text/x-python",
   "name": "python",
   "nbconvert_exporter": "python",
   "pygments_lexer": "ipython3",
   "version": "3.7.12"
  }
 },
 "nbformat": 4,
 "nbformat_minor": 5
}
